{
 "cells": [
  {
   "cell_type": "markdown",
   "id": "13c504f9-5073-406f-bdba-bd5ed44f5750",
   "metadata": {},
   "source": [
    "A quick test to see if I can export to WebPDF.\n"
   ]
  },
  {
   "cell_type": "code",
   "execution_count": null,
   "id": "d7336526-c214-4422-a0fa-48f4d07836cf",
   "metadata": {},
   "outputs": [],
   "source": []
  }
 ],
 "metadata": {
  "kernelspec": {
   "display_name": "Python 3 (ipykernel)",
   "language": "python",
   "name": "python3"
  },
  "language_info": {
   "codemirror_mode": {
    "name": "ipython",
    "version": 3
   },
   "file_extension": ".py",
   "mimetype": "text/x-python",
   "name": "python",
   "nbconvert_exporter": "python",
   "pygments_lexer": "ipython3",
   "version": "3.11.3"
  }
 },
 "nbformat": 4,
 "nbformat_minor": 5
}
